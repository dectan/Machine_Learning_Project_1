{
 "cells": [
  {
   "cell_type": "code",
   "execution_count": 1,
   "metadata": {},
   "outputs": [
    {
     "name": "stdout",
     "output_type": "stream",
     "text": [
      "pyannote is installed.\n"
     ]
    }
   ],
   "source": [
    "import importlib.util\n",
    "package_name = 'pyannote'\n",
    "\n",
    "if importlib.util.find_spec(package_name) is not None:\n",
    "    print(f\"{package_name} is installed.\")\n",
    "else:\n",
    "    print(f\"{package_name} is not installed.\")"
   ]
  }
 ],
 "metadata": {
  "kernelspec": {
   "display_name": "base",
   "language": "python",
   "name": "python3"
  },
  "language_info": {
   "codemirror_mode": {
    "name": "ipython",
    "version": 3
   },
   "file_extension": ".py",
   "mimetype": "text/x-python",
   "name": "python",
   "nbconvert_exporter": "python",
   "pygments_lexer": "ipython3",
   "version": "3.12.7"
  }
 },
 "nbformat": 4,
 "nbformat_minor": 2
}
